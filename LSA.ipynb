{
  "nbformat": 4,
  "nbformat_minor": 0,
  "metadata": {
    "colab": {
      "provenance": [],
      "authorship_tag": "ABX9TyOaDbSeVd5fjaMarHPtUBEl",
      "include_colab_link": true
    },
    "kernelspec": {
      "name": "python3",
      "display_name": "Python 3"
    },
    "language_info": {
      "name": "python"
    }
  },
  "cells": [
    {
      "cell_type": "markdown",
      "metadata": {
        "id": "view-in-github",
        "colab_type": "text"
      },
      "source": [
        "<a href=\"https://colab.research.google.com/github/richapatel93/NLP/blob/main/LSA.ipynb\" target=\"_parent\"><img src=\"https://colab.research.google.com/assets/colab-badge.svg\" alt=\"Open In Colab\"/></a>"
      ]
    },
    {
      "cell_type": "code",
      "execution_count": 1,
      "metadata": {
        "colab": {
          "base_uri": "https://localhost:8080/"
        },
        "id": "uHdahcY7nBZD",
        "outputId": "2f160c39-b8b4-440b-8e49-5a4576aaabf2"
      },
      "outputs": [
        {
          "output_type": "stream",
          "name": "stdout",
          "text": [
            "Topic 1: mouse | house | fox | box | ham | eggs | green | eat | sam | like\n",
            "Topic 2: chicks | say | sews | sue | mr | box | fox | sir | socks | knox\n",
            "Topic 3: know | mother | did | oh | look | things | fish | hat | said | cat\n",
            "Topic 4: shame | knox | ham | green | eggs | try | sam | like | mr | sir\n",
            "Topic 5: rain | let | dark | tree | train | say | mr | car | sir | eat\n"
          ]
        }
      ],
      "source": [
        "import numpy as np\n",
        "from sklearn.feature_extraction.text import TfidfVectorizer\n",
        "from sklearn.decomposition import TruncatedSVD\n",
        "\n",
        "# 1. Load the text\n",
        "with open(\"drseuss.txt\", \"r\", encoding=\"utf-8\") as file:\n",
        "    text = file.read()\n",
        "\n",
        "# 2. Break the text into small parts (like paragraphs)\n",
        "documents = text.split('\\n\\n')\n",
        "\n",
        "# 3. Convert words into numbers using TF-IDF\n",
        "vectorizer = TfidfVectorizer(stop_words='english')\n",
        "X = vectorizer.fit_transform(documents)\n",
        "\n",
        "# 4. Apply LSA using SVD to find 5 topics\n",
        "lsa = TruncatedSVD(n_components=5, random_state=42)\n",
        "lsa.fit(X)\n",
        "\n",
        "# 5. Show top 10 words for each topic\n",
        "terms = vectorizer.get_feature_names_out()\n",
        "for i, comp in enumerate(lsa.components_):\n",
        "    terms_in_topic = [terms[i] for i in comp.argsort()[-10:]]\n",
        "    print(f\"Topic {i+1}: {' | '.join(terms_in_topic)}\")\n"
      ]
    }
  ]
}